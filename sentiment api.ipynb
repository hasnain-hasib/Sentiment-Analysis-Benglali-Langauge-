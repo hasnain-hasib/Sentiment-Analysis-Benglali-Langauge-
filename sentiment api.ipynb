{
 "cells": [
  {
   "cell_type": "code",
   "execution_count": null,
   "id": "719b131c",
   "metadata": {},
   "outputs": [],
   "source": [
    "from fastapi import FastAPI, Request\n",
    "from fastapi.responses import HTMLResponse\n",
    "from transformers import AutoTokenizer, AutoModelForSequenceClassification\n",
    "import torch\n",
    "import uvicorn\n",
    "\n",
    "app = FastAPI()\n",
    "tokenizer = AutoTokenizer.from_pretrained(\"sentiment\")\n",
    "model = AutoModelForSequenceClassification.from_pretrained(\"sentiment\")\n",
    "\n",
    "\n",
    "@app.get(\"/\", response_class=HTMLResponse)\n",
    "def index():\n",
    "    return \"\"\"\n",
    "        <html>\n",
    "            <head>\n",
    "                <title>Sentence Semantic Classification</title>\n",
    "            </head>\n",
    "            <body>\n",
    "                <form method=\"post\">\n",
    "                    <input type=\"text\" name=\"sentence\" placeholder=\"Enter a sentence\">\n",
    "                    <button type=\"submit\">Classify</button>\n",
    "                </form>\n",
    "            </body>\n",
    "        </html>\n",
    "    \"\"\"\n",
    "\n",
    "\n",
    "@app.post(\"/\")\n",
    "async def classify(request: Request):\n",
    "    sentence = await request.form()\n",
    "    sentence = sentence[\"sentence\"]\n",
    "    inputs = tokenizer(sentence, return_tensors=\"pt\")\n",
    "    outputs = model(**inputs)\n",
    "    _, predicted = torch.max(outputs.logits, dim=1)\n",
    "    label = predicted.item()\n",
    "    return {\"sentence\": sentence, \"label\": label}\n",
    "\n",
    "\n",
    "if __name__ == \"__main__\":\n",
    "    uvicorn.run(app, host=\"0.0.0.0\", port=8000)"
   ]
  },
  {
   "cell_type": "code",
   "execution_count": 2,
   "id": "7604b1b4",
   "metadata": {},
   "outputs": [],
   "source": [
    "from transformers import GPT2TokenizerFast\n",
    "tokenizer = GPT2TokenizerFast.from_pretrained(\"gpt2\")\n",
    "number_of_tokens = len(tokenizer(\"Hello world\")['input_ids'])"
   ]
  },
  {
   "cell_type": "code",
   "execution_count": 4,
   "id": "1e2dc2b9",
   "metadata": {},
   "outputs": [
    {
     "name": "stdout",
     "output_type": "stream",
     "text": [
      "2\n"
     ]
    }
   ],
   "source": [
    "print(number_of_tokens)"
   ]
  },
  {
   "cell_type": "code",
   "execution_count": null,
   "id": "a6fcf239",
   "metadata": {},
   "outputs": [],
   "source": []
  }
 ],
 "metadata": {
  "kernelspec": {
   "display_name": "Python 3 (ipykernel)",
   "language": "python",
   "name": "python3"
  },
  "language_info": {
   "codemirror_mode": {
    "name": "ipython",
    "version": 3
   },
   "file_extension": ".py",
   "mimetype": "text/x-python",
   "name": "python",
   "nbconvert_exporter": "python",
   "pygments_lexer": "ipython3",
   "version": "3.9.12"
  }
 },
 "nbformat": 4,
 "nbformat_minor": 5
}
